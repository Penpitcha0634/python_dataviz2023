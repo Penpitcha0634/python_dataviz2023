{
  "nbformat": 4,
  "nbformat_minor": 0,
  "metadata": {
    "colab": {
      "provenance": [],
      "include_colab_link": true
    },
    "kernelspec": {
      "name": "python3",
      "display_name": "Python 3"
    },
    "language_info": {
      "name": "python"
    }
  },
  "cells": [
    {
      "cell_type": "markdown",
      "metadata": {
        "id": "view-in-github",
        "colab_type": "text"
      },
      "source": [
        "<a href=\"https://colab.research.google.com/github/Penpitcha0634/python_dataviz2023/blob/main/Basic_Programming_Concepts.ipynb\" target=\"_parent\"><img src=\"https://colab.research.google.com/assets/colab-badge.svg\" alt=\"Open In Colab\"/></a>"
      ]
    },
    {
      "cell_type": "markdown",
      "source": [
        "# Functions ($f(x) = y$)"
      ],
      "metadata": {
        "id": "ndEUxng4DYIK"
      }
    },
    {
      "cell_type": "markdown",
      "source": [
        "```python\n",
        "def function_name(input_x):\n",
        "    # do something with input_x to get output_y\n",
        "    return output_y\n",
        "```\n",
        "def = นิยามของฟังก์ชัน"
      ],
      "metadata": {
        "id": "_mdeQu1_ED6H"
      }
    },
    {
      "cell_type": "markdown",
      "source": [
        "$f_1(x)=x^2 + 75$"
      ],
      "metadata": {
        "id": "MO3KLkCLFvns"
      }
    },
    {
      "cell_type": "code",
      "source": [
        "def function_f1(x):\n",
        "    a = x**2   # ** = ยกกำลัง2\n",
        "    y = a + 75\n",
        "    return y\n",
        "# codeที่เยื้องเป็นส่วนนหนึ่งของบรรทัดบนที่ไม่เยื้อง code\n",
        "#print('done!')\n",
        "\n",
        "# code ที่อยู่ลำดับเดียวกันมีความสำคัญเท่ากัน\n",
        "\n",
        "#เป็นเพียงการนิยามฟังก์ชันเท่านั้น ผลรันจะไม่มีอะไรแสดงออกมา"
      ],
      "metadata": {
        "id": "FuxV7IAtD02T"
      },
      "execution_count": 3,
      "outputs": []
    },
    {
      "cell_type": "code",
      "source": [
        "function_f1(3) #print function ออกมาดู"
      ],
      "metadata": {
        "colab": {
          "base_uri": "https://localhost:8080/"
        },
        "id": "lwE0P085D0zG",
        "outputId": "1818f90b-eb6b-4726-903e-de96691666ca"
      },
      "execution_count": 4,
      "outputs": [
        {
          "output_type": "execute_result",
          "data": {
            "text/plain": [
              "84"
            ]
          },
          "metadata": {},
          "execution_count": 4
        }
      ]
    },
    {
      "cell_type": "code",
      "source": [
        "function_f1(9)"
      ],
      "metadata": {
        "id": "8_zMmWHRBvqd",
        "outputId": "150f9e99-065e-42b4-de19-8c79fca99086",
        "colab": {
          "base_uri": "https://localhost:8080/"
        }
      },
      "execution_count": 5,
      "outputs": [
        {
          "output_type": "execute_result",
          "data": {
            "text/plain": [
              "156"
            ]
          },
          "metadata": {},
          "execution_count": 5
        }
      ]
    },
    {
      "cell_type": "markdown",
      "source": [
        "function มีส่วนสำคัญทั้งหมด 4 ส่วน\n",
        "\n",
        "1. บอก python ว่าเราจะเขียนฟังก์ชั่น ชื่ออะไร  `def function_name()`: (ขาดไม่ได้)\n",
        "2. กำหนดตัวแปรที่จะเป็น input  _Input_ (ขาดได้)\n",
        "3. ส่วนประมวลผล do_something with _Input_ to get _Output_ (ขาดไม่ได้)\n",
        "4. ส่วน output `return` _Output_(ขาดได้)"
      ],
      "metadata": {
        "id": "5VC3up0SHLU2"
      }
    },
    {
      "cell_type": "markdown",
      "source": [
        "### ตัวอย่าง function ที่มีส่วนประกอบครบ\n"
      ],
      "metadata": {
        "id": "3f5MrI9RH3-t"
      }
    },
    {
      "cell_type": "code",
      "source": [
        "def function_f1(x):\n",
        "    a = x**2\n",
        "    y = a + 75\n",
        "    return y"
      ],
      "metadata": {
        "id": "T1SwjUsiDzow"
      },
      "execution_count": 6,
      "outputs": []
    },
    {
      "cell_type": "markdown",
      "source": [
        "### ตัวอย่าง function ที่ ไม่มี input\n",
        "ทำงานเหมือนเดิมตลอด ค่าไม่เปลี่ยนแปลง"
      ],
      "metadata": {
        "id": "QewiXPJZICyV"
      }
    },
    {
      "cell_type": "code",
      "source": [
        "def pi_v():\n",
        "    y = 3.14159265359\n",
        "    return y"
      ],
      "metadata": {
        "id": "JNws0MGlDzg7"
      },
      "execution_count": 7,
      "outputs": []
    },
    {
      "cell_type": "code",
      "source": [
        "#หาพท.วงกลม รัศมี = 2/// สูตร  pi r^2   ผลลัพธ์เหมือนเดิม\n",
        "piv = pi_v()\n",
        "circle_area_r2 = piv*(2**2)\n",
        "print(circle_area_r2)"
      ],
      "metadata": {
        "colab": {
          "base_uri": "https://localhost:8080/"
        },
        "id": "mLHwTEGiDzd7",
        "outputId": "f50321a2-78a6-486c-f654-c9a186e96410"
      },
      "execution_count": 8,
      "outputs": [
        {
          "output_type": "stream",
          "name": "stdout",
          "text": [
            "12.56637061436\n"
          ]
        }
      ]
    },
    {
      "cell_type": "markdown",
      "source": [
        "### Function ไม่มี process ไม่ได้"
      ],
      "metadata": {
        "id": "FYsIsEDpJKZb"
      }
    },
    {
      "cell_type": "code",
      "source": [
        "def function_a(): #มันต้องใส่ process ก็คือตัวที่มันเยื้องเข้ามานั้นแหละ หรือเราใส่ process แต่เราลืมทำให้มันเยื้องเข้ามา"
      ],
      "metadata": {
        "colab": {
          "base_uri": "https://localhost:8080/",
          "height": 132
        },
        "id": "rm0nhmHeDzaj",
        "outputId": "f0585989-7f32-4f6a-afa7-6eb01bd37ab0"
      },
      "execution_count": 9,
      "outputs": [
        {
          "output_type": "error",
          "ename": "SyntaxError",
          "evalue": "ignored",
          "traceback": [
            "\u001b[0;36m  File \u001b[0;32m\"<ipython-input-9-d453fd29a638>\"\u001b[0;36m, line \u001b[0;32m1\u001b[0m\n\u001b[0;31m    def function_a(): #มันต้องใส่ process ก็คือตัวที่มันเยื้องเข้ามานั้นแหละ หรือเราใส่ process แต่เราลืมทำให้มันเยื้องเข้ามา\u001b[0m\n\u001b[0m                                                                                                                             ^\u001b[0m\n\u001b[0;31mSyntaxError\u001b[0m\u001b[0;31m:\u001b[0m incomplete input\n"
          ]
        }
      ]
    },
    {
      "cell_type": "markdown",
      "source": [
        "ตัวอย่าง Function ที่ไม่มี output"
      ],
      "metadata": {
        "id": "ShvGkn6CJWXF"
      }
    },
    {
      "cell_type": "code",
      "source": [
        "def print_name_id(name,id):\n",
        "    print(f'ชื่อ {name} รหัสประจำตัว {id}') #กระบวนการว่าให้เเสดง ชื่อ"
      ],
      "metadata": {
        "id": "ik5FyttBDzXy"
      },
      "execution_count": 10,
      "outputs": []
    },
    {
      "cell_type": "code",
      "source": [
        "print_name_id('เพ็ญพิชชา','643020063-4')"
      ],
      "metadata": {
        "colab": {
          "base_uri": "https://localhost:8080/"
        },
        "id": "1PjEoA-uDzU_",
        "outputId": "b76ed6d6-9573-440d-ca72-a221e9b70b2c"
      },
      "execution_count": 13,
      "outputs": [
        {
          "output_type": "stream",
          "name": "stdout",
          "text": [
            "ชื่อ เพ็ญพิชชา รหัสประจำตัว 643020063-4\n"
          ]
        }
      ]
    },
    {
      "cell_type": "code",
      "source": [
        "a = print_name_id('เพ็ญพิชชา','643020063-4')"
      ],
      "metadata": {
        "colab": {
          "base_uri": "https://localhost:8080/"
        },
        "id": "sLMZG-KQKcHU",
        "outputId": "95aa9bf0-aa3b-4e45-a9f5-5de80dd1a992"
      },
      "execution_count": 12,
      "outputs": [
        {
          "output_type": "stream",
          "name": "stdout",
          "text": [
            "ชื่อ เพ็ญพิชชา รหัสประจำตัว 643020063-4\n"
          ]
        }
      ]
    },
    {
      "cell_type": "code",
      "source": [
        "a # เป็นช่องว่างเพราะ ไม่มีการ  return  ค่า"
      ],
      "metadata": {
        "id": "3zKkSXWFKghw"
      },
      "execution_count": 14,
      "outputs": []
    },
    {
      "cell_type": "markdown",
      "source": [
        "## input ของ function แบ่งเป็น 2 ชนิด (จำเป็นต้องใส่ กับ ไม่จำเป็นต้องใส่)"
      ],
      "metadata": {
        "id": "bE4Bcw47P_le"
      }
    },
    {
      "cell_type": "markdown",
      "source": [
        "ตัวอย่าง function `print_grade()` มี input 3 ตัว จำเป็นต้องใส่ 2 ตัว คือ name กับ id และไม่จำเป็นต้องใส่ 1 ตัว คือเกรด ซึ่งมีค่า default เป็น F"
      ],
      "metadata": {
        "id": "1Mk9rBROQ-6e"
      }
    },
    {
      "cell_type": "code",
      "source": [
        "def print_grade(name,id,grade = 'F'): #print_grade มี input 3 ตัวคือ name,id,grade\n",
        "    print(f'รหัสประจำตัว {id} ชื่อ {name}')   # process ให้แสดง รหัส และชื่อ\n",
        "    print(f'ได้เกรด {grade}') # process"
      ],
      "metadata": {
        "id": "ygU4MSqbO1aU"
      },
      "execution_count": 15,
      "outputs": []
    },
    {
      "cell_type": "code",
      "source": [
        "print_grade('นายวุฒิชัย คำนา','643020521-0')"
      ],
      "metadata": {
        "colab": {
          "base_uri": "https://localhost:8080/"
        },
        "id": "JlcXZyMvRVQs",
        "outputId": "5abac883-c5ca-4d9f-d86b-71e8b2925342"
      },
      "execution_count": 16,
      "outputs": [
        {
          "output_type": "stream",
          "name": "stdout",
          "text": [
            "รหัสประจำตัว 643020521-0 ชื่อ นายวุฒิชัย คำนา\n",
            "ได้เกรด F\n"
          ]
        }
      ]
    },
    {
      "cell_type": "code",
      "source": [
        "print_grade('นายวุฒิชัย คำนา','643020521-0','A')"
      ],
      "metadata": {
        "colab": {
          "base_uri": "https://localhost:8080/"
        },
        "id": "mhpcGajzRrqT",
        "outputId": "12394930-567c-4adf-d036-75c60cae4506"
      },
      "execution_count": 17,
      "outputs": [
        {
          "output_type": "stream",
          "name": "stdout",
          "text": [
            "รหัสประจำตัว 643020521-0 ชื่อ นายวุฒิชัย คำนา\n",
            "ได้เกรด A\n"
          ]
        }
      ]
    },
    {
      "cell_type": "code",
      "source": [
        "print_grade(id='643020521-0',name='นายวุฒิชัย คำนา',grade='B+')  #กรณีที่มีตัวแปรเยอะ จำลำดับไม่ได้ ก็ระบุไปเลย"
      ],
      "metadata": {
        "colab": {
          "base_uri": "https://localhost:8080/"
        },
        "id": "u3QHMqUaRw3U",
        "outputId": "73eca6c0-73d1-43e7-82ae-30be91c26c4e"
      },
      "execution_count": 18,
      "outputs": [
        {
          "output_type": "stream",
          "name": "stdout",
          "text": [
            "รหัสประจำตัว 643020521-0 ชื่อ นายวุฒิชัย คำนา\n",
            "ได้เกรด B+\n"
          ]
        }
      ]
    },
    {
      "cell_type": "markdown",
      "source": [
        "# Looping (for)\n",
        "สำหรับทำงาน ซ้ำๆ"
      ],
      "metadata": {
        "id": "uvA7dX8xDeNB"
      }
    },
    {
      "cell_type": "markdown",
      "source": [
        "```python\n",
        "for member in listEx:       ## วนที่สมาชิก ใน list\n",
        "    do_something()\n",
        "```\n",
        "for ชื่อตัวแปร in list ที่จะเอามาใช้เป็นสมาชิกใน ตัวแปร:     \n",
        "    \n",
        "วนซ้ำ\n",
        "- วนซ้ำสมาชิกใน\n",
        "\n"
      ],
      "metadata": {
        "id": "qiGWoXEuTSph"
      }
    },
    {
      "cell_type": "code",
      "source": [
        "for member in [1,2,3,4,5,6]:\n",
        "    print(member)"
      ],
      "metadata": {
        "colab": {
          "base_uri": "https://localhost:8080/"
        },
        "id": "ErPNmt1wTQ3l",
        "outputId": "2ff6c649-a717-4f3e-d3a6-2d8f73d14a62"
      },
      "execution_count": 19,
      "outputs": [
        {
          "output_type": "stream",
          "name": "stdout",
          "text": [
            "1\n",
            "2\n",
            "3\n",
            "4\n",
            "5\n",
            "6\n"
          ]
        }
      ]
    },
    {
      "cell_type": "code",
      "source": [
        "def print_name(name):   # name input รอรับ\n",
        "    print(f'ฉันชื่อ {name}')"
      ],
      "metadata": {
        "id": "OjXbkUvQU1H3"
      },
      "execution_count": 20,
      "outputs": []
    },
    {
      "cell_type": "code",
      "source": [
        "for name in ['วัชราภรณ์','จุฑากาญจน์ ','ชลธิชา','ญาดา','กิตติคุณ']:  # ชื่อ name(ตัวแปร ที่จะไปดึงเอาสมาชิกเเต่ละตัวมาใช้ใน loop ) ที่เอาไปเป็น input\n",
        "    print_name(name) #จะไปเป็น input ของด้านบน"
      ],
      "metadata": {
        "colab": {
          "base_uri": "https://localhost:8080/"
        },
        "id": "O_PQSREoUn-6",
        "outputId": "01269db2-441a-41da-f7ab-4645e8c97f9b"
      },
      "execution_count": 21,
      "outputs": [
        {
          "output_type": "stream",
          "name": "stdout",
          "text": [
            "ฉันชื่อ วัชราภรณ์\n",
            "ฉันชื่อ จุฑากาญจน์ \n",
            "ฉันชื่อ ชลธิชา\n",
            "ฉันชื่อ ญาดา\n",
            "ฉันชื่อ กิตติคุณ\n"
          ]
        }
      ]
    },
    {
      "cell_type": "code",
      "source": [
        "list_name_id_grade = [['นางสาวเบญญาภา ระภูเขียว','623020527-6','B'],\n",
        "                      ['นางสาวทักษิณา ราชหุ่น','623021000-1','A'],\n",
        "                      ['นางสาวปลายฟ้า คำเพ็ง','623021005-1','C']]"
      ],
      "metadata": {
        "id": "HSqTdVfKWQhi"
      },
      "execution_count": 22,
      "outputs": []
    },
    {
      "cell_type": "code",
      "source": [
        "for each in list_name_id_grade:\n",
        "    name = each[0] #สามาชิกตัวแรกของสมาชิกอันเเรกของ list อันใหญ่\n",
        "    id = each[1]\n",
        "    grade = each[2]\n",
        "    print_grade(name,id,grade)\n",
        "    print('----------------')"
      ],
      "metadata": {
        "colab": {
          "base_uri": "https://localhost:8080/"
        },
        "id": "hnz7HqbRXJId",
        "outputId": "177497a5-5727-4e12-e997-8bf8e507d3cd"
      },
      "execution_count": 23,
      "outputs": [
        {
          "output_type": "stream",
          "name": "stdout",
          "text": [
            "รหัสประจำตัว 623020527-6 ชื่อ นางสาวเบญญาภา ระภูเขียว\n",
            "ได้เกรด B\n",
            "----------------\n",
            "รหัสประจำตัว 623021000-1 ชื่อ นางสาวทักษิณา ราชหุ่น\n",
            "ได้เกรด A\n",
            "----------------\n",
            "รหัสประจำตัว 623021005-1 ชื่อ นางสาวปลายฟ้า คำเพ็ง\n",
            "ได้เกรด C\n",
            "----------------\n"
          ]
        }
      ]
    },
    {
      "cell_type": "markdown",
      "source": [
        "## ใช้ for loop เพิ่มสมาชิกใน list  *****"
      ],
      "metadata": {
        "id": "Xm7CXqFmYSB1"
      }
    },
    {
      "cell_type": "code",
      "source": [
        "#อยากได้ข้อมูลแยกกัน ชื่ออย่างเดียว/รหัสอย่างเดียว/เกรดอย่างเดียว\n",
        "list_name = [] #นิยมสร้าง list เปล่าๆก่อน แล้วค่อยๆเพิ่มข้อมูลเข้าไป\n",
        "list_id = []\n",
        "list_grade = []\n",
        "for each in list_name_id_grade:\n",
        "    list_name.append(each[0])\n",
        "    list_id.append(each[1])\n",
        "    list_grade.append(each[2]) #สิ่งที่อยากให้ทำคือ ตั้งแต่เราสร้าง list เปล่า และ คำสั่งวนลูป ให้เราทำคำสั่งทั้งหมดนี้ใน cell เดียวกัน รันครั้งเดียวไม่รันแยกเพื่อป้องกันการผิดพลาดในการรัน\n"
      ],
      "metadata": {
        "id": "ap0A83G3YRLF"
      },
      "execution_count": 24,
      "outputs": []
    },
    {
      "cell_type": "code",
      "source": [
        "list_name"
      ],
      "metadata": {
        "colab": {
          "base_uri": "https://localhost:8080/"
        },
        "id": "Hiq0wvZgY6GM",
        "outputId": "379c2a4a-4dbb-4ff7-a0b8-95364c20cc4c"
      },
      "execution_count": 25,
      "outputs": [
        {
          "output_type": "execute_result",
          "data": {
            "text/plain": [
              "['นางสาวเบญญาภา ระภูเขียว', 'นางสาวทักษิณา ราชหุ่น', 'นางสาวปลายฟ้า คำเพ็ง']"
            ]
          },
          "metadata": {},
          "execution_count": 25
        }
      ]
    },
    {
      "cell_type": "code",
      "source": [
        "list_id"
      ],
      "metadata": {
        "colab": {
          "base_uri": "https://localhost:8080/"
        },
        "id": "Xhktul9p9u5k",
        "outputId": "9b94d373-37e8-425f-8f37-00f2d06caf4c"
      },
      "execution_count": 26,
      "outputs": [
        {
          "output_type": "execute_result",
          "data": {
            "text/plain": [
              "['623020527-6', '623021000-1', '623021005-1']"
            ]
          },
          "metadata": {},
          "execution_count": 26
        }
      ]
    },
    {
      "cell_type": "code",
      "source": [
        "list_grade"
      ],
      "metadata": {
        "colab": {
          "base_uri": "https://localhost:8080/"
        },
        "id": "MJ_KJpUE9xig",
        "outputId": "703081ea-2617-4a9c-f7f6-0fd421d68d62"
      },
      "execution_count": 27,
      "outputs": [
        {
          "output_type": "execute_result",
          "data": {
            "text/plain": [
              "['B', 'A', 'C']"
            ]
          },
          "metadata": {},
          "execution_count": 27
        }
      ]
    },
    {
      "cell_type": "markdown",
      "source": [
        "### การวนลูปด้วย `range()`\n",
        "\n",
        "- สร้าง list 0 - ก่อนเลขนั้น\n",
        "- วนลูปแบบซ้ำๆ ไม่ต้องการเปลี่ยนแปลงอะไร"
      ],
      "metadata": {
        "id": "JbhEds7TbWPS"
      }
    },
    {
      "cell_type": "code",
      "source": [
        "for i in range(100):\n",
        "    print('งง', end = ' ')"
      ],
      "metadata": {
        "colab": {
          "base_uri": "https://localhost:8080/"
        },
        "id": "HxXoQFZbbVpT",
        "outputId": "e8859ee1-36d9-475a-d160-2edac31b4dad"
      },
      "execution_count": 28,
      "outputs": [
        {
          "output_type": "stream",
          "name": "stdout",
          "text": [
            "งง งง งง งง งง งง งง งง งง งง งง งง งง งง งง งง งง งง งง งง งง งง งง งง งง งง งง งง งง งง งง งง งง งง งง งง งง งง งง งง งง งง งง งง งง งง งง งง งง งง งง งง งง งง งง งง งง งง งง งง งง งง งง งง งง งง งง งง งง งง งง งง งง งง งง งง งง งง งง งง งง งง งง งง งง งง งง งง งง งง งง งง งง งง งง งง งง งง งง งง "
          ]
        }
      ]
    },
    {
      "cell_type": "code",
      "source": [
        "list(range(20))"
      ],
      "metadata": {
        "colab": {
          "base_uri": "https://localhost:8080/"
        },
        "id": "sasVkccPaJ_B",
        "outputId": "876b9384-8cbe-452f-8cff-14736927a621"
      },
      "execution_count": 29,
      "outputs": [
        {
          "output_type": "execute_result",
          "data": {
            "text/plain": [
              "[0, 1, 2, 3, 4, 5, 6, 7, 8, 9, 10, 11, 12, 13, 14, 15, 16, 17, 18, 19]"
            ]
          },
          "metadata": {},
          "execution_count": 29
        }
      ]
    },
    {
      "cell_type": "code",
      "source": [
        "list(range(5,20)) # เริ่มจาก 5 ก่อน 20"
      ],
      "metadata": {
        "colab": {
          "base_uri": "https://localhost:8080/"
        },
        "id": "5nlvP3RoadjF",
        "outputId": "16e8226d-3fc1-4ebc-f6b7-d74bafdc6ae3"
      },
      "execution_count": 30,
      "outputs": [
        {
          "output_type": "execute_result",
          "data": {
            "text/plain": [
              "[5, 6, 7, 8, 9, 10, 11, 12, 13, 14, 15, 16, 17, 18, 19]"
            ]
          },
          "metadata": {},
          "execution_count": 30
        }
      ]
    },
    {
      "cell_type": "markdown",
      "source": [
        "### Loop ซ้อน Loop (nested loop)\n"
      ],
      "metadata": {
        "id": "OwzYAkaCcRR7"
      }
    },
    {
      "cell_type": "code",
      "source": [
        "#แม่สูตรคูณ\n",
        "for mem1 in range(2,5): #แม่[2,3,4]\n",
        "    print(f'now mem1 = {mem1}')\n",
        "    for mem2 in range(1,13): #[1,2,3,4,5,6,7,8,9,10,11,12]ตัวมาคูณ\n",
        "        print(f'{mem1} x {mem2} = {mem1*mem2}')\n",
        "    print(f'end inner for mem1 = {mem1}') #จบในลูป"
      ],
      "metadata": {
        "colab": {
          "base_uri": "https://localhost:8080/"
        },
        "id": "JpnID7pKcOpu",
        "outputId": "09f1567c-4297-4d71-9fad-039e5b98b170"
      },
      "execution_count": 31,
      "outputs": [
        {
          "output_type": "stream",
          "name": "stdout",
          "text": [
            "now mem1 = 2\n",
            "2 x 1 = 2\n",
            "2 x 2 = 4\n",
            "2 x 3 = 6\n",
            "2 x 4 = 8\n",
            "2 x 5 = 10\n",
            "2 x 6 = 12\n",
            "2 x 7 = 14\n",
            "2 x 8 = 16\n",
            "2 x 9 = 18\n",
            "2 x 10 = 20\n",
            "2 x 11 = 22\n",
            "2 x 12 = 24\n",
            "end inner for mem1 = 2\n",
            "now mem1 = 3\n",
            "3 x 1 = 3\n",
            "3 x 2 = 6\n",
            "3 x 3 = 9\n",
            "3 x 4 = 12\n",
            "3 x 5 = 15\n",
            "3 x 6 = 18\n",
            "3 x 7 = 21\n",
            "3 x 8 = 24\n",
            "3 x 9 = 27\n",
            "3 x 10 = 30\n",
            "3 x 11 = 33\n",
            "3 x 12 = 36\n",
            "end inner for mem1 = 3\n",
            "now mem1 = 4\n",
            "4 x 1 = 4\n",
            "4 x 2 = 8\n",
            "4 x 3 = 12\n",
            "4 x 4 = 16\n",
            "4 x 5 = 20\n",
            "4 x 6 = 24\n",
            "4 x 7 = 28\n",
            "4 x 8 = 32\n",
            "4 x 9 = 36\n",
            "4 x 10 = 40\n",
            "4 x 11 = 44\n",
            "4 x 12 = 48\n",
            "end inner for mem1 = 4\n"
          ]
        }
      ]
    },
    {
      "cell_type": "markdown",
      "source": [
        "### Loop in Function"
      ],
      "metadata": {
        "id": "BHURDfVAf8Jz"
      }
    },
    {
      "cell_type": "code",
      "source": [
        "def print_grade_loop(names,grades): # names,grades มีหลายสมาชิก เป็นlist\n",
        "    for n,g in zip(names,grades): # The zip() function returns a zip object, which is an iterator of tuples where the first item in each passed iterator is paired together, and then the second item in each passed iterator are paired together etc.\n",
        "        print(f'{n} ได้เกรด {g}')  #  zip การจับคู่ ของเเต่ละ list ในตำแหน่เดียวกัน // จับ 2 list มาร่วมกัน"
      ],
      "metadata": {
        "id": "Egjjd5fecOew"
      },
      "execution_count": 32,
      "outputs": []
    },
    {
      "cell_type": "code",
      "source": [
        "print_grade_loop(list_name,list_grade)"
      ],
      "metadata": {
        "colab": {
          "base_uri": "https://localhost:8080/"
        },
        "id": "XiZ_FbtecP5P",
        "outputId": "29a6a84f-db33-40bb-fb7b-44f348578650"
      },
      "execution_count": 33,
      "outputs": [
        {
          "output_type": "stream",
          "name": "stdout",
          "text": [
            "นางสาวเบญญาภา ระภูเขียว ได้เกรด B\n",
            "นางสาวทักษิณา ราชหุ่น ได้เกรด A\n",
            "นางสาวปลายฟ้า คำเพ็ง ได้เกรด C\n"
          ]
        }
      ]
    },
    {
      "cell_type": "markdown",
      "source": [
        "# HW2.5 เราจะสร้าง function print logo พรรค ก้าวไกล โดย input พื้นหลังได้"
      ],
      "metadata": {
        "id": "uv1dHvoVIcMd"
      }
    },
    {
      "cell_type": "code",
      "source": [
        "import numpy as np #การ import อีกแบบ สำหรับคนที่ขี้เกียจเขียนคำว่า numpy # import เเล้วเปลี่ยนชื่อ จาก numpy เป็น np\n",
        "#ถ้าเปิดโปรแกรมขึ้นมาใหม่ ก่อนจะทำ numpy ให้ import ก่อนเสมอ"
      ],
      "metadata": {
        "id": "d7C2k4tDL82I"
      },
      "execution_count": 34,
      "outputs": []
    },
    {
      "cell_type": "code",
      "source": [
        "def function_BG(Blackguard):\n",
        "    KK = Blackguard*np.ones((18,17))\n",
        "    KK[1:2,1:16] = 88\n",
        "    KK[2:3,2:15] = 88\n",
        "    KK[2:3,1:2] = 8\n",
        "    KK[3:4,2:14] = 88\n",
        "    KK[4:5,12:14] = 88\n",
        "    KK[5:7,11:13] = 88\n",
        "    KK[7:9,10:12] = 88\n",
        "    KK[9:11,9:11] = 88\n",
        "    KK[11:13,8:10] = 88\n",
        "    KK[13:15,7:9] = 88\n",
        "    KK[13:14,6:7] = 8\n",
        "    KK[15:16,7:8] = 88 #ปลายด้านล่างของวงนอก\n",
        "    KK[6:7,3:9] = 88 #เริ่มวงใน\n",
        "    KK[7:8,3:4] = 8\n",
        "    KK[7:8,4:8] = 88\n",
        "    KK[8:9,6:8] = 88\n",
        "    KK[9:10,6:7] = 88\n",
        "    KK[10:11,6:7] = 88\n",
        "    KK[11:12,5:6] = 8\n",
        "    KK[10:11,5:6] = 88\n",
        "    print(KK)\n",
        "function_BG(7)"
      ],
      "metadata": {
        "colab": {
          "base_uri": "https://localhost:8080/"
        },
        "id": "X4LHGtqoMXpf",
        "outputId": "444d12e4-6712-4e9b-ce21-a259593c44dc"
      },
      "execution_count": 35,
      "outputs": [
        {
          "output_type": "stream",
          "name": "stdout",
          "text": [
            "[[ 7.  7.  7.  7.  7.  7.  7.  7.  7.  7.  7.  7.  7.  7.  7.  7.  7.]\n",
            " [ 7. 88. 88. 88. 88. 88. 88. 88. 88. 88. 88. 88. 88. 88. 88. 88.  7.]\n",
            " [ 7.  8. 88. 88. 88. 88. 88. 88. 88. 88. 88. 88. 88. 88. 88.  7.  7.]\n",
            " [ 7.  7. 88. 88. 88. 88. 88. 88. 88. 88. 88. 88. 88. 88.  7.  7.  7.]\n",
            " [ 7.  7.  7.  7.  7.  7.  7.  7.  7.  7.  7.  7. 88. 88.  7.  7.  7.]\n",
            " [ 7.  7.  7.  7.  7.  7.  7.  7.  7.  7.  7. 88. 88.  7.  7.  7.  7.]\n",
            " [ 7.  7.  7. 88. 88. 88. 88. 88. 88.  7.  7. 88. 88.  7.  7.  7.  7.]\n",
            " [ 7.  7.  7.  8. 88. 88. 88. 88.  7.  7. 88. 88.  7.  7.  7.  7.  7.]\n",
            " [ 7.  7.  7.  7.  7.  7. 88. 88.  7.  7. 88. 88.  7.  7.  7.  7.  7.]\n",
            " [ 7.  7.  7.  7.  7.  7. 88.  7.  7. 88. 88.  7.  7.  7.  7.  7.  7.]\n",
            " [ 7.  7.  7.  7.  7. 88. 88.  7.  7. 88. 88.  7.  7.  7.  7.  7.  7.]\n",
            " [ 7.  7.  7.  7.  7.  8.  7.  7. 88. 88.  7.  7.  7.  7.  7.  7.  7.]\n",
            " [ 7.  7.  7.  7.  7.  7.  7.  7. 88. 88.  7.  7.  7.  7.  7.  7.  7.]\n",
            " [ 7.  7.  7.  7.  7.  7.  8. 88. 88.  7.  7.  7.  7.  7.  7.  7.  7.]\n",
            " [ 7.  7.  7.  7.  7.  7.  7. 88. 88.  7.  7.  7.  7.  7.  7.  7.  7.]\n",
            " [ 7.  7.  7.  7.  7.  7.  7. 88.  7.  7.  7.  7.  7.  7.  7.  7.  7.]\n",
            " [ 7.  7.  7.  7.  7.  7.  7.  7.  7.  7.  7.  7.  7.  7.  7.  7.  7.]\n",
            " [ 7.  7.  7.  7.  7.  7.  7.  7.  7.  7.  7.  7.  7.  7.  7.  7.  7.]]\n"
          ]
        }
      ]
    },
    {
      "cell_type": "markdown",
      "source": [
        "# Conditional Statement (if)"
      ],
      "metadata": {
        "id": "AdMUneO0Di6B"
      }
    },
    {
      "cell_type": "markdown",
      "source": [
        "```python\n",
        "if condition1:\n",
        "    do_something() ## ถ้า condition1 เป็นจริง ทำ do_something()\n",
        "elif condition2:\n",
        "    do_another_thing()  ## ถ้า condition1 ไม่เป็นจริงแต่ condition2 เป็นจริง ทำ do_another_thing()\n",
        "else:\n",
        "    do_the_last_thing() ## ถ้าไม่มี condition ไหนเป็นจริงเลย ทำ do_the_last_thing()\n",
        "```"
      ],
      "metadata": {
        "id": "E9svJdMGh6e6"
      }
    },
    {
      "cell_type": "code",
      "source": [
        "for n in list_name:\n",
        "    if len(n)>20:  #ถ้าจำนวนชื่อมีตัวอักสร มากกว่า 20 ตัวอักษร\n",
        "        print(f'{n} ได้เกรด A')\n",
        "    else:\n",
        "        print(f'{n} ได้เกรด F')"
      ],
      "metadata": {
        "colab": {
          "base_uri": "https://localhost:8080/"
        },
        "id": "WBifeHsJcP1v",
        "outputId": "6583b2e6-c98a-4a19-e9d8-039aab5affc9"
      },
      "execution_count": 36,
      "outputs": [
        {
          "output_type": "stream",
          "name": "stdout",
          "text": [
            "นางสาวเบญญาภา ระภูเขียว ได้เกรด A\n",
            "นางสาวทักษิณา ราชหุ่น ได้เกรด A\n",
            "นางสาวปลายฟ้า คำเพ็ง ได้เกรด F\n"
          ]
        }
      ]
    },
    {
      "cell_type": "markdown",
      "source": [
        "### operator ที่ใช้ตรวจสอบ condition\n",
        "\n",
        "== (เท่ากับ) , != (ไม่เท่ากับ), >=, <=, <, >, and, or\n",
        "- ผลลัพธ์มีแค่ Ture flase"
      ],
      "metadata": {
        "id": "AepkrHEKkA7v"
      }
    },
    {
      "cell_type": "code",
      "source": [
        "a = 10 == 20 #ตัวแปร a เก็บค่า 10 เท่ากับ 20 #ที่มันเป็น False เพราะ ตามความเป็นจริง 10 มันไม่เท่ากับ 20\n",
        "print(a)"
      ],
      "metadata": {
        "id": "sw23UdfnkASr",
        "outputId": "3f45d378-f0ae-40be-cd3c-fb12c79d8f3e",
        "colab": {
          "base_uri": "https://localhost:8080/"
        }
      },
      "execution_count": 38,
      "outputs": [
        {
          "output_type": "stream",
          "name": "stdout",
          "text": [
            "False\n"
          ]
        }
      ]
    },
    {
      "cell_type": "code",
      "source": [
        "b = (15 <= 20) and (10 == 20) #ตัวแปร b เก็บค่า 15 น้อยกว่าเท่ากับ 20 ซึ่งเป็นจริง \"และ\" 10 เท่ากับ 20 ซึ่งเป็นเท็จ\n",
        "                              #จริง และ เท็จ เป็นเท็จ\n",
        "print(b)"
      ],
      "metadata": {
        "colab": {
          "base_uri": "https://localhost:8080/"
        },
        "id": "MpOwImpecOYE",
        "outputId": "84dc1d66-3429-405f-9713-f01967c2a3f0"
      },
      "execution_count": 39,
      "outputs": [
        {
          "output_type": "stream",
          "name": "stdout",
          "text": [
            "False\n"
          ]
        }
      ]
    },
    {
      "cell_type": "code",
      "source": [
        "b = 15 <= 20\n",
        "print(b)"
      ],
      "metadata": {
        "colab": {
          "base_uri": "https://localhost:8080/"
        },
        "id": "aT9-I2zzd87i",
        "outputId": "63a9ac1c-39d0-4fb6-8c6a-8a50d5972df1"
      },
      "execution_count": 41,
      "outputs": [
        {
          "output_type": "stream",
          "name": "stdout",
          "text": [
            "True\n"
          ]
        }
      ]
    },
    {
      "cell_type": "code",
      "source": [
        "if a:             # a เก็บต่าที่เป็น false ก็เลยไม่แสดงค่า\n",
        "    print('x')    # สรุปได้ว่ามันจะ print ค่าออกมาได้ก็ต่อเมื่อผลของมันเป็นจริงเท่านั้น"
      ],
      "metadata": {
        "id": "88Hoo4AgcOTs"
      },
      "execution_count": 47,
      "outputs": []
    },
    {
      "cell_type": "code",
      "source": [
        "if True:\n",
        "    print('x')"
      ],
      "metadata": {
        "colab": {
          "base_uri": "https://localhost:8080/"
        },
        "id": "M7ye6epncOGL",
        "outputId": "2bdd303a-56b0-41fd-e6e9-df6a9ba02070"
      },
      "execution_count": 45,
      "outputs": [
        {
          "output_type": "stream",
          "name": "stdout",
          "text": [
            "x\n"
          ]
        }
      ]
    },
    {
      "cell_type": "code",
      "execution_count": 48,
      "metadata": {
        "id": "gdx9D1eADPXK"
      },
      "outputs": [],
      "source": [
        "if a and b:  # เท็จและจริง เป็นเท็จ มันจึงไม่แสดงค่า\n",
        "    print('x')"
      ]
    },
    {
      "cell_type": "code",
      "source": [
        "if a or b:  # เท็จหรือจริง เป็น จริง\n",
        "    print('x')"
      ],
      "metadata": {
        "id": "-_K6tNsklY0O",
        "outputId": "44e48dc8-a003-4f67-9591-255860a09ff6",
        "colab": {
          "base_uri": "https://localhost:8080/"
        }
      },
      "execution_count": 50,
      "outputs": [
        {
          "output_type": "stream",
          "name": "stdout",
          "text": [
            "x\n"
          ]
        }
      ]
    },
    {
      "cell_type": "markdown",
      "source": [
        "# HW\n",
        "เขียน function ตัดเกรด โดยที่ input เป็นคะแนน(0-100) , output เป็นเกรด (F-A) หรือ 'ไม่สามารถตัดเกรดได้'\n",
        "\n",
        "วนลูปตัดเกรด input = [1,50,65,90,101,-5,49,'ก',80]\n",
        "\n",
        "กำหนด\n",
        "\n",
        "*  ถ้าคะแนนอยู่ระหว่างมากกว่าหรือเท่ากับ  0  แต่น้อยกว่า 50 จะได้เกรด F\n",
        "*  ถ้าคะแนนอยู่ระหว่างมากกว่าหรือเท่ากับ 50 แต่น้อยกว่า 55 จะได้เกรด D\n",
        "*  ถ้าคะแนนอยู่ระหว่างมากกว่าหรือเท่ากับ 55 แต่น้อยกว่า 60 จะได้เกรด D+\n",
        "*  ถ้าคะแนนอยู่ระหว่างมากกว่าหรือเท่ากับ 60 แต่น้อยกว่า 65 จะได้เกรด C\n",
        "*  ถ้าคะแนนอยู่ระหว่างมากกว่าหรือเท่ากับ 65 แต่น้อยกว่า 70 จะได้เกรด C+\n",
        "*  ถ้าคะแนนอยู่ระหว่างมากกว่าหรือเท่ากับ 70 แต่น้อยกว่า 75 จะได้เกรด B\n",
        "*  ถ้าคะแนนอยู่ระหว่างมากกว่าหรือเท่ากับ 75 แต่น้อยกว่า 80 จะได้เกรด B+\n",
        "*  ถ้าคะแนนอยู่ระหว่างมากกว่าหรือเท่ากับ 80  จะได้เกรด A\n",
        "*  ถ้าคะแนนไม่อยู่ในช่วง 0-100 ให้ return 'ไม่สามารถตัดเกรดได้'"
      ],
      "metadata": {
        "id": "jgF2Urtylpqu"
      }
    },
    {
      "cell_type": "code",
      "source": [
        "input = [1,50,65,90,101,-5,49,'ก',80]"
      ],
      "metadata": {
        "id": "xUUhDR3GldrZ"
      },
      "execution_count": null,
      "outputs": []
    },
    {
      "cell_type": "code",
      "source": [
        "'ก' is not int()"
      ],
      "metadata": {
        "id": "5uE-XFrS_oKK",
        "outputId": "bcbdd67c-0610-4660-9c8b-323c7540eb08",
        "colab": {
          "base_uri": "https://localhost:8080/"
        }
      },
      "execution_count": null,
      "outputs": [
        {
          "output_type": "execute_result",
          "data": {
            "text/plain": [
              "True"
            ]
          },
          "metadata": {},
          "execution_count": 37
        }
      ]
    },
    {
      "cell_type": "code",
      "source": [
        "type('')"
      ],
      "metadata": {
        "id": "VpLRCk6P_-S9",
        "outputId": "e3d192e7-2b18-4116-f8ff-190983901902",
        "colab": {
          "base_uri": "https://localhost:8080/"
        }
      },
      "execution_count": null,
      "outputs": [
        {
          "output_type": "execute_result",
          "data": {
            "text/plain": [
              "str"
            ]
          },
          "metadata": {},
          "execution_count": 38
        }
      ]
    },
    {
      "cell_type": "markdown",
      "source": [
        "func ควรแยกกับ for"
      ],
      "metadata": {
        "id": "jaDC5TnpKY95"
      }
    },
    {
      "cell_type": "code",
      "source": [
        "def grading(x):\n",
        "    if type(x) is int:     # type(x) ตรวจสอบชนิดของตัวแปร\n",
        "        if x < 0:\n",
        "            y =f'คะแนน {x} ไม่สามารถตัดเกรดได้'\n",
        "        elif x < 50:\n",
        "            y = f'คะแนน {x} ได้เกรด F'\n",
        "        elif x < 55:\n",
        "            y = f'คะแนน {x} ได้เกรด D'\n",
        "        elif x < 60:\n",
        "            y = f'คะแนน {x} ได้เกรด D+'\n",
        "        elif x < 65:\n",
        "            y = f'คะแนน {x} ได้เกรด C'\n",
        "        elif x < 70:\n",
        "            y = f'คะแนน {x} ได้เกรด C+'\n",
        "        elif x < 75:\n",
        "            y = f'คะแนน {x} ได้เกรด B'\n",
        "        elif x < 80:\n",
        "            y = f'คะแนน {x} ได้เกรด B+'\n",
        "        elif x <= 100:\n",
        "            y = f'คะแนน {x} ได้เกรด A'\n",
        "        else:\n",
        "            y =f'คะแนน {x} ไม่สามารถตัดเกรดได้'\n",
        "    else:\n",
        "        y =f'คะแนน {x} ไม่สามารถตัดเกรดได้'\n",
        "\n",
        "    return y"
      ],
      "metadata": {
        "id": "NlkxvQbD_cSO"
      },
      "execution_count": null,
      "outputs": []
    },
    {
      "cell_type": "code",
      "source": [
        "type(1) is int"
      ],
      "metadata": {
        "id": "dx_p-DkvCcnL",
        "outputId": "0a6f6ca4-4935-4799-c4ea-1add1fdf73c6",
        "colab": {
          "base_uri": "https://localhost:8080/"
        }
      },
      "execution_count": null,
      "outputs": [
        {
          "output_type": "execute_result",
          "data": {
            "text/plain": [
              "True"
            ]
          },
          "metadata": {},
          "execution_count": 40
        }
      ]
    },
    {
      "cell_type": "code",
      "source": [
        "grading(1)"
      ],
      "metadata": {
        "id": "1Mj4zb4LCSB6",
        "outputId": "7cbadf30-201c-4bbc-dfb1-be8eddfba883",
        "colab": {
          "base_uri": "https://localhost:8080/",
          "height": 36
        }
      },
      "execution_count": null,
      "outputs": [
        {
          "output_type": "execute_result",
          "data": {
            "text/plain": [
              "'คะแนน 1 ได้เกรด F'"
            ],
            "application/vnd.google.colaboratory.intrinsic+json": {
              "type": "string"
            }
          },
          "metadata": {},
          "execution_count": 41
        }
      ]
    },
    {
      "cell_type": "code",
      "source": [
        "for i in input:\n",
        "    print(grading(i))"
      ],
      "metadata": {
        "id": "p_cE3Je8Bueg",
        "outputId": "6fc71dde-12e1-4e1f-9e9c-dddb35504dcf",
        "colab": {
          "base_uri": "https://localhost:8080/"
        }
      },
      "execution_count": null,
      "outputs": [
        {
          "output_type": "stream",
          "name": "stdout",
          "text": [
            "คะแนน 1 ได้เกรด F\n",
            "คะแนน 50 ได้เกรด D\n",
            "คะแนน 65 ได้เกรด C+\n",
            "คะแนน 90 ได้เกรด A\n",
            "คะแนน 101 ไม่สามารถตัดเกรดได้\n",
            "คะแนน -5 ไม่สามารถตัดเกรดได้\n",
            "คะแนน 49 ได้เกรด F\n",
            "คะแนน ก ไม่สามารถตัดเกรดได้\n",
            "คะแนน 80 ได้เกรด A\n"
          ]
        }
      ]
    },
    {
      "cell_type": "code",
      "source": [],
      "metadata": {
        "id": "if_oHtWlB90j"
      },
      "execution_count": null,
      "outputs": []
    }
  ]
}